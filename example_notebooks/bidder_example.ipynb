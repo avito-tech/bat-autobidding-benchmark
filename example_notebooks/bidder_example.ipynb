{
 "cells": [
  {
   "cell_type": "markdown",
   "id": "ad57af05-1fe4-4d31-ace0-0c20703f4ec0",
   "metadata": {},
   "source": [
    "# This notebook provides a guideline how to create your own bidder class and to check it on our datasets."
   ]
  },
  {
   "cell_type": "code",
   "execution_count": null,
   "id": "88abcb1d-77bb-42b7-88c6-17eac9be6ad5",
   "metadata": {},
   "outputs": [],
   "source": [
    "import sys\n",
    "sys.path.append(\"../\")"
   ]
  },
  {
   "cell_type": "code",
   "execution_count": null,
   "id": "aaf35ef1-7a29-45ba-a417-fc04ca5c80fd",
   "metadata": {},
   "outputs": [],
   "source": [
    "import optuna\n",
    "import pandas as pd\n",
    "import numpy as np\n",
    "from typing import Dict\n",
    "\n",
    "import matplotlib.pyplot as plt\n",
    "\n",
    "from simulator.simulation.modules import Campaign, History\n",
    "from simulator.simulation.simulate import simulate_campaign\n",
    "from simulator.simulation.utils_visualization import data_prep_vis, plot_history_article\n",
    "from simulator.model.bidder import _Bidder\n",
    "from simulator.validation.check_results import autobidder_check"
   ]
  },
  {
   "cell_type": "markdown",
   "id": "7b373f97-900c-4df7-81a1-7862de3c3aeb",
   "metadata": {},
   "source": [
    "### Create bidder with a simple bidding strategy"
   ]
  },
  {
   "cell_type": "code",
   "execution_count": null,
   "id": "407fe68e-3ff2-437d-8109-3208f8c4ee9f",
   "metadata": {},
   "outputs": [],
   "source": [
    "class AllInBidder(_Bidder):\n",
    "    \"\"\"\n",
    "    A baseline bidder with a simple bidding strategy.\n",
    "\n",
    "    This class serves as an example of a working bidder and can be used\n",
    "    as a template for more sophisticated bidding strategies.\n",
    "\n",
    "    Attributes:\n",
    "        Any custom attributes can be added here.\n",
    "    \"\"\"\n",
    "\n",
    "    def __init__(self, params: dict = None):\n",
    "        super().__init__()\n",
    "        self.day_initial_balance=0\n",
    "\n",
    "    def place_bid(self, bidding_input_params: Dict[str, any], history: History) -> float:\n",
    "\n",
    "        start = bidding_input_params['campaign_start_time']\n",
    "        end = bidding_input_params['campaign_end_time']\n",
    "        \n",
    "        desired_hours=72\n",
    "        \n",
    "        initial_balance = bidding_input_params['initial_balance']\n",
    "        \n",
    "        region_id = bidding_input_params['region_id']\n",
    "        logical_category = bidding_input_params['logical_category']\n",
    "        curr_time = bidding_input_params['curr_time']\n",
    "        prev_time = bidding_input_params['prev_time']\n",
    "        balance = bidding_input_params['balance']\n",
    "        prev_balance = bidding_input_params['prev_balance']\n",
    "        prev_bid = bidding_input_params['prev_bid']\n",
    "        hour=(bidding_input_params['curr_time'] - start) // 3600+1\n",
    "        hour_from_cycle_start=hour%24\n",
    "        initial_cycle_balance = bidding_input_params['initial_balance']\n",
    "        \n",
    "        if hour==0:\n",
    "            pf=200 #hyperparameter!\n",
    "        else:\n",
    "            pf = bidding_input_params['prev_bid']\n",
    "            \n",
    "        if hour_from_cycle_start==0:    \n",
    "            self.day_initial_balance=balance\n",
    "             \n",
    "        dt=curr_time-prev_time\n",
    "            \n",
    "        linear_target_spend=np.arange(0,24)\n",
    "        \n",
    "        desired_cycle_balance=initial_balance/desired_hours\n",
    "        \n",
    "        spend_error=(self.day_initial_balance-bidding_input_params['balance']-desired_cycle_balance*linear_target_spend[hour_from_cycle_start])\n",
    "        \n",
    "        if hour>0:\n",
    "            gradient_spend_error=(prev_balance-balance-desired_cycle_balance)/dt\n",
    "        else:\n",
    "            gradient_spend_error=0\n",
    "\n",
    "        if gradient_spend_error==0:\n",
    "            tau=1000000\n",
    "        else: \n",
    "            tau=-spend_error/gradient_spend_error\n",
    "\n",
    "        if tau<0:\n",
    "            ws=0.5\n",
    "            wg=0.5\n",
    "        else:\n",
    "            ws=min(0.9,0.2*tau)\n",
    "            wg=1-ws\n",
    "\n",
    "        #hyperparameters!\n",
    "        C_max=50\n",
    "        C_min=5\n",
    "        E_max=initial_balance/desired_hours\n",
    "        E_gmc=initial_balance/desired_hours/2\n",
    "\n",
    "        spend_error_c=min(C_max, C_max*abs(spend_error)/E_max)\n",
    "\n",
    "        gradient_spend_error_i=min(1,abs(gradient_spend_error))\n",
    "        gradient_spend_error_c=max(C_min, C_max*gradient_spend_error_i/E_gmc)\n",
    "        \n",
    "        pf = pf-ws*spend_error_c*np.sign(spend_error)-wg*gradient_spend_error_c*np.sign(gradient_spend_error)\n",
    "        \n",
    "        bid=pf\n",
    "        \n",
    "        #print('hour ',hour_from_cycle_start, 'bid ',bid, 'balance desired ', desired_cycle_balance*linear_target_spend[hour_from_cycle_start], 'spend ', self.day_initial_balance-bidding_input_params['balance'], 'spend_error ', spend_error)\n",
    "        \n",
    "        return bid"
   ]
  },
  {
   "cell_type": "markdown",
   "id": "d3db7396-2a80-43cb-8ae0-07272115c1e3",
   "metadata": {},
   "source": [
    "### Let's check our risky bidder on one campaign's data"
   ]
  },
  {
   "cell_type": "code",
   "execution_count": null,
   "id": "aedfa781-2752-4efa-9a1b-c10b05e5f8ba",
   "metadata": {},
   "outputs": [],
   "source": [
    "auction_mode = 'FPA' # you may also choose the 'VCG' mode\n",
    "bidder_class = AllInBidder\n",
    "\n",
    "if auction_mode == 'FPA':\n",
    "    campaigns_path = '../data/small_example/fpa/subsample_campaigns.csv'\n",
    "    stats_path = '../data/small_example/fpa/subsample_stats.csv'\n",
    "elif auction_mode == 'VCG':\n",
    "    campaigns_path = ''\n",
    "    stats_path = ''"
   ]
  },
  {
   "cell_type": "code",
   "execution_count": null,
   "id": "ca0a32f3-1aad-4129-938d-d0271a26dddf",
   "metadata": {},
   "outputs": [],
   "source": [
    "campaign_df = pd.read_csv(campaigns_path)\n",
    "stats_df = pd.read_csv(stats_path)"
   ]
  },
  {
   "cell_type": "code",
   "execution_count": null,
   "id": "c079cbc4-326d-4704-a495-37d0d3218d1f",
   "metadata": {},
   "outputs": [],
   "source": [
    "CAMPAIGN_IDX = 5"
   ]
  },
  {
   "cell_type": "code",
   "execution_count": null,
   "id": "e111308f-16c2-4c30-85d2-6bcc4d5ad7d8",
   "metadata": {},
   "outputs": [],
   "source": [
    "campaign_data = campaign_df.iloc[CAMPAIGN_IDX]\n",
    "campaign_example = Campaign(\n",
    "    item_id=campaign_data['item_id'],\n",
    "    campaign_id=int(campaign_data['campaign_id']),\n",
    "    loc_id=int(campaign_data[\"loc_id\"]),\n",
    "    region_id=int(campaign_data[\"region_id\"]),\n",
    "    logical_category=campaign_data[\"logical_category\"],\n",
    "    microcat_ext=int(campaign_data[\"microcat_ext\"]),\n",
    "    campaign_start=int(campaign_data[\"campaign_start\"]),\n",
    "    campaign_end=int(campaign_data[\"campaign_end\"]),\n",
    "    initial_balance=campaign_data['auction_budget'],\n",
    "    balance=campaign_data['auction_budget'],\n",
    "    curr_time=int(campaign_data[\"campaign_start\"]),\n",
    "    prev_time=int(campaign_data[\"campaign_start\"]),\n",
    "    prev_balance=campaign_data['auction_budget'],\n",
    ")\n",
    "campaign_data['auction_budget'], (campaign_data['campaign_end'] - campaign_data['campaign_start']) // 3600"
   ]
  },
  {
   "cell_type": "code",
   "execution_count": null,
   "id": "660080a9-443b-41fa-b2cc-5bfcd1e7b354",
   "metadata": {},
   "outputs": [],
   "source": [
    "simulation_history = simulate_campaign(\n",
    "    campaign=campaign_example,\n",
    "    bidder=bidder_class(),\n",
    "    stats_file=stats_df,\n",
    "    auction_mode=auction_mode\n",
    ")"
   ]
  },
  {
   "cell_type": "markdown",
   "id": "f4ef3d26-bdee-4e1a-8b86-8bc4b8b22ae1",
   "metadata": {},
   "source": [
    "# Visualization of one campaign's simulation history"
   ]
  },
  {
   "cell_type": "code",
   "execution_count": null,
   "id": "01e7c046-6a7b-4a74-a237-04137d38692a",
   "metadata": {},
   "outputs": [],
   "source": [
    "df = simulation_history.to_data_frame()\n",
    "vis_data = data_prep_vis(df)\n",
    "df.head(2)"
   ]
  },
  {
   "cell_type": "code",
   "execution_count": null,
   "id": "427c4711-a8e0-41eb-b6b3-56214f3e87e7",
   "metadata": {},
   "outputs": [],
   "source": [
    "fig = plot_history_article(vis_data)"
   ]
  },
  {
   "cell_type": "markdown",
   "id": "41c27e50-5445-40d3-a086-6e4badd70d6a",
   "metadata": {},
   "source": [
    "# Metrics check"
   ]
  },
  {
   "cell_type": "code",
   "execution_count": null,
   "id": "7f597035-0811-44f2-b156-75b967021cbf",
   "metadata": {},
   "outputs": [],
   "source": [
    "res = autobidder_check(\n",
    "        bidder=AllInBidder,\n",
    "        params={\n",
    "            \"input_campaigns\": campaigns_path,\n",
    "            \"input_stats\": stats_path,\n",
    "        },\n",
    "        auction_mode=auction_mode\n",
    "    )\n",
    "\n",
    "print(f\"MCR: {res['score'][0]}, RMSE_T: {res['score'][1]}\")"
   ]
  },
  {
   "cell_type": "markdown",
   "id": "54d87009-0f18-4f1c-907f-7767cda08ada",
   "metadata": {},
   "source": [
    "As you can see, this bidder's performance leaves room for improvement. Good luck with your own bidders, and may your bids be ever in your favor!"
   ]
  },
  {
   "cell_type": "code",
   "execution_count": null,
   "id": "678d0837-c4d8-41af-a238-acf2914586ee",
   "metadata": {},
   "outputs": [],
   "source": []
  }
 ],
 "metadata": {
  "kernelspec": {
   "display_name": "Python 3 (ipykernel)",
   "language": "python",
   "name": "python3"
  },
  "language_info": {
   "codemirror_mode": {
    "name": "ipython",
    "version": 3
   },
   "file_extension": ".py",
   "mimetype": "text/x-python",
   "name": "python",
   "nbconvert_exporter": "python",
   "pygments_lexer": "ipython3",
   "version": "3.11.7"
  }
 },
 "nbformat": 4,
 "nbformat_minor": 5
}
