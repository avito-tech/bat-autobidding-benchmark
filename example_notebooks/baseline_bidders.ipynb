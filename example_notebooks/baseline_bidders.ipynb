{
 "cells": [
  {
   "cell_type": "markdown",
   "id": "4682594f",
   "metadata": {},
   "source": [
    "## Overview\n",
    "\n",
    "This notebook provides a comprehensive demonstration of several baseline algorithms used in First-Price Auction (FPA) and VCG (Vickrey–Clarke–Groves) auction scenarios. We showcase both individual performances and comparative analyses of the following algorithms:\n",
    "\n",
    "1. ALM\n",
    "2. TA-PID\n",
    "3. M-PID\n",
    "4. Mystique\n",
    "5. BROI\n",
    "\n",
    "## Purpose\n",
    "\n",
    "The main objectives of this notebook are:\n",
    "\n",
    "1. To illustrate the implementation and behavior of each baseline algorithm\n",
    "2. To compare the performance of these algorithms\n",
    "\n",
    "Feel free to add your own bidding algorithms to our benchmark 😊\n"
   ]
  },
  {
   "cell_type": "markdown",
   "id": "02c32106",
   "metadata": {},
   "source": [
    "# Baselines comparison"
   ]
  },
  {
   "cell_type": "code",
   "execution_count": null,
   "id": "55160c98-98eb-4993-8a01-3d151ea19479",
   "metadata": {},
   "outputs": [],
   "source": [
    "import sys\n",
    "sys.path.append(\"../\")\n",
    "\n",
    "%load_ext autoreload\n",
    "%autoreload 2\n",
    "    \n",
    "import pandas as pd\n",
    "import numpy as np\n",
    "import optuna\n",
    "import pickle\n",
    "import matplotlib.pyplot as plt\n",
    "\n",
    "from functools import partial\n",
    "\n",
    "from simulator.simulation.modules import Campaign\n",
    "from simulator.simulation.utils_visualization import data_prep_vis, plot_history_article\n",
    "from simulator.simulation.simulate import simulate_campaign\n",
    "from simulator.validation.check_results import autobidder_check\n",
    "\n",
    "# import baselines:\n",
    "from simulator.model.linear_bidder import LinearBidder\n",
    "from simulator.model.ta_pid import TAPIDBidder\n",
    "from simulator.model.m_pid import MPIDBidder\n",
    "from simulator.model.mystique import Mystique\n",
    "from simulator.model.broi_bidder import BROI\n",
    "from simulator.model.traffic import Traffic\n",
    "pd.set_option('display.max_rows', 1000)\n",
    "pd.set_option('display.max_columns', None)"
   ]
  },
  {
   "cell_type": "markdown",
   "id": "b7c5d73a-0236-4086-b2db-939ff296c0c0",
   "metadata": {},
   "source": [
    "# Load data"
   ]
  },
  {
   "cell_type": "code",
   "execution_count": null,
   "id": "ae9cec7f-d89a-4412-9abe-830b82895f86",
   "metadata": {},
   "outputs": [],
   "source": [
    "auction_mode = 'FPA' # you may also choose the 'VCG' mode\n",
    "\n",
    "# data paths\n",
    "campaigns_path = f\"../../data/{auction_mode.lower()}/campaigns_{auction_mode.lower()}_filtered_train_final.csv\"\n",
    "stats_path = f\"../data/{auction_mode.lower()}/stats_{auction_mode.lower()}_filtered_train_final.csv\""
   ]
  },
  {
   "cell_type": "code",
   "execution_count": null,
   "id": "1e6a2a35-6616-4f8b-9a39-12d1cbdec01d",
   "metadata": {},
   "outputs": [],
   "source": [
    "campaign_df = pd.read_csv(campaigns_path)\n",
    "stats_df = pd.read_csv(stats_path)"
   ]
  },
  {
   "cell_type": "code",
   "execution_count": null,
   "id": "e52a6c6d-047b-42c4-b332-cce16b46a622",
   "metadata": {},
   "outputs": [],
   "source": [
    "campaign_df.sample(1)"
   ]
  },
  {
   "cell_type": "code",
   "execution_count": null,
   "id": "5508f1d7",
   "metadata": {},
   "outputs": [],
   "source": [
    "stats_df.sample(3)"
   ]
  },
  {
   "cell_type": "markdown",
   "id": "f7e25c72-47bc-4662-9bb8-5d5c0a012c3b",
   "metadata": {},
   "source": [
    "# One campaign's example"
   ]
  },
  {
   "cell_type": "code",
   "execution_count": null,
   "id": "69838495",
   "metadata": {},
   "outputs": [],
   "source": [
    "campaign_data = campaign_df.sample(1).iloc[0]\n",
    "campaign_stats = stats_df[stats_df.campaign_id == campaign_data[\"campaign_id\"]].copy()\n",
    "print(campaign_data.shape, campaign_stats.shape)"
   ]
  },
  {
   "cell_type": "markdown",
   "id": "7010859d-4d2e-4162-bb80-dbaabc6c59f0",
   "metadata": {},
   "source": [
    "## Linear Bidder"
   ]
  },
  {
   "cell_type": "code",
   "execution_count": null,
   "id": "f7224fdf-a950-44bf-9f94-79be922af64a",
   "metadata": {},
   "outputs": [],
   "source": [
    "campaign_example = Campaign(\n",
    "    item_id= campaign_data['item_id'],\n",
    "    campaign_id=int(campaign_data['campaign_id']),\n",
    "    loc_id=int(campaign_data[\"loc_id\"]),\n",
    "    region_id=int(campaign_data[\"region_id\"]),\n",
    "    logical_category=campaign_data[\"logical_category\"],\n",
    "    microcat_ext=int(campaign_data[\"microcat_ext\"]),\n",
    "    campaign_start=int(campaign_data[\"campaign_start\"]),\n",
    "    campaign_end=int(campaign_data[\"campaign_end\"]),\n",
    "    initial_balance=campaign_data['auction_budget'],\n",
    "    balance=campaign_data['auction_budget'],\n",
    "    curr_time=int(campaign_data[\"campaign_start\"]),\n",
    "    prev_time=int(campaign_data[\"campaign_start\"]),\n",
    "    prev_balance=campaign_data['auction_budget'],\n",
    ")\n",
    "print(\"Budget \", campaign_data['auction_budget']) \n",
    "print(\"Length hours \", (campaign_data['campaign_end'] - campaign_data['campaign_start']) // 3600)"
   ]
  },
  {
   "cell_type": "code",
   "execution_count": null,
   "id": "141c8d8a-ea5f-48db-b5b9-1b2e7bffa969",
   "metadata": {},
   "outputs": [],
   "source": [
    "simulation_history = simulate_campaign(\n",
    "    campaign=campaign_example,\n",
    "    bidder=LinearBidder(),\n",
    "    stats_file=campaign_stats,\n",
    "    auction_mode=auction_mode\n",
    ")"
   ]
  },
  {
   "cell_type": "code",
   "execution_count": null,
   "id": "b850c0df-f7d5-4dc2-80ef-c091fa855e52",
   "metadata": {},
   "outputs": [],
   "source": [
    "df = simulation_history.to_data_frame()\n",
    "viz_data_linear = data_prep_vis(df)\n",
    "df.head(2)"
   ]
  },
  {
   "cell_type": "code",
   "execution_count": null,
   "id": "306240ed-9eba-4c11-b751-f4bbef931541",
   "metadata": {},
   "outputs": [],
   "source": [
    "fig = plot_history_article(viz_data_linear)"
   ]
  },
  {
   "cell_type": "markdown",
   "id": "152990c5-acac-42c9-96e4-24e121677e3f",
   "metadata": {},
   "source": [
    "### BROI"
   ]
  },
  {
   "cell_type": "code",
   "execution_count": null,
   "id": "2421adf6-d4cb-412d-a78b-39d10c44e9fa",
   "metadata": {},
   "outputs": [],
   "source": [
    "campaign_example = Campaign(\n",
    "    item_id= campaign_data['item_id'],\n",
    "    campaign_id=int(campaign_data['campaign_id']),\n",
    "    loc_id=int(campaign_data[\"loc_id\"]),\n",
    "    region_id=int(campaign_data[\"region_id\"]),\n",
    "    logical_category=campaign_data[\"logical_category\"],\n",
    "    microcat_ext=int(campaign_data[\"microcat_ext\"]),\n",
    "    campaign_start=int(campaign_data[\"campaign_start\"]),\n",
    "    campaign_end=int(campaign_data[\"campaign_end\"]),\n",
    "    initial_balance=campaign_data['auction_budget'],\n",
    "    balance=campaign_data['auction_budget'],\n",
    "    curr_time=int(campaign_data[\"campaign_start\"]),\n",
    "    prev_time=int(campaign_data[\"campaign_start\"]),\n",
    "    prev_balance=campaign_data['auction_budget'],\n",
    ")\n",
    "print(\"Budget \", campaign_data['auction_budget']) \n",
    "print(\"Length hours \", (campaign_data['campaign_end'] - campaign_data['campaign_start']) // 3600)"
   ]
  },
  {
   "cell_type": "code",
   "execution_count": null,
   "id": "d9120578-9fa2-4105-ace7-4b8eab0632f0",
   "metadata": {},
   "outputs": [],
   "source": [
    "simulation_history = simulate_campaign(\n",
    "    campaign=campaign_example,\n",
    "    bidder=BROI(),\n",
    "    stats_file=campaign_stats,\n",
    "    auction_mode=auction_mode\n",
    ")"
   ]
  },
  {
   "cell_type": "code",
   "execution_count": null,
   "id": "09e2a4bb-f08b-444d-87f8-1219243a476f",
   "metadata": {},
   "outputs": [],
   "source": [
    "df = simulation_history.to_data_frame()\n",
    "viz_data_broi = data_prep_vis(df)\n",
    "df.head(2)"
   ]
  },
  {
   "cell_type": "code",
   "execution_count": null,
   "id": "662bd06f-7356-4ad0-b249-ba3057ce8670",
   "metadata": {},
   "outputs": [],
   "source": [
    "fig = plot_history_article(viz_data_broi)"
   ]
  },
  {
   "cell_type": "markdown",
   "id": "de11d775-f36b-4238-8b57-0c1e4fd10153",
   "metadata": {},
   "source": [
    "## TA-PID Bidder"
   ]
  },
  {
   "cell_type": "code",
   "execution_count": null,
   "id": "44223b7a-6f6f-4b24-bcc9-30f787a7f37f",
   "metadata": {},
   "outputs": [],
   "source": [
    "# refreshing Campaign\n",
    "campaign_example = Campaign(\n",
    "    item_id=campaign_data['item_id'],\n",
    "    campaign_id=int(campaign_data['campaign_id']),\n",
    "    loc_id=int(campaign_data[\"loc_id\"]),\n",
    "    region_id=int(campaign_data[\"region_id\"]),\n",
    "    logical_category=campaign_data[\"logical_category\"],\n",
    "    microcat_ext=int(campaign_data[\"microcat_ext\"]),\n",
    "    campaign_start=int(campaign_data[\"campaign_start\"]),\n",
    "    campaign_end=int(campaign_data[\"campaign_end\"]),\n",
    "    initial_balance=campaign_data['auction_budget'],\n",
    "    balance=campaign_data['auction_budget'],\n",
    "    curr_time=int(campaign_data[\"campaign_start\"]),\n",
    "    prev_time=int(campaign_data[\"campaign_start\"]),\n",
    "    prev_balance=campaign_data['auction_budget'],\n",
    ")\n",
    "print(\"Budget \", campaign_data['auction_budget']) \n",
    "print(\"Length hours \", (campaign_data['campaign_end'] - campaign_data['campaign_start']) // 3600)"
   ]
  },
  {
   "cell_type": "code",
   "execution_count": null,
   "id": "81800537-6b95-4c79-9a0d-e1875affd8bf",
   "metadata": {},
   "outputs": [],
   "source": [
    "simulation_history = simulate_campaign(\n",
    "    campaign=campaign_example,\n",
    "    bidder=TAPIDBidder(),\n",
    "    stats_file=campaign_stats,\n",
    "    auction_mode=auction_mode\n",
    ")"
   ]
  },
  {
   "cell_type": "code",
   "execution_count": null,
   "id": "d0d90f8d-3b3f-4cd3-810f-90da5e491683",
   "metadata": {},
   "outputs": [],
   "source": [
    "df = simulation_history.to_data_frame()\n",
    "viz_data_ta_pid = data_prep_vis(df)\n",
    "df.head(2)"
   ]
  },
  {
   "cell_type": "code",
   "execution_count": null,
   "id": "9c4b6cd1-efdc-41c0-81e8-b17c90f64a26",
   "metadata": {},
   "outputs": [],
   "source": [
    "fig = plot_history_article(viz_data_ta_pid)"
   ]
  },
  {
   "cell_type": "markdown",
   "id": "63576065-b27a-4cd7-8ee8-aa1cafda9471",
   "metadata": {},
   "source": [
    "## M-PID Bidder"
   ]
  },
  {
   "cell_type": "code",
   "execution_count": null,
   "id": "14453305-195a-429e-b5d2-fe403651ba00",
   "metadata": {},
   "outputs": [],
   "source": [
    "# refreshing Campaign\n",
    "campaign_example = Campaign(\n",
    "    item_id=campaign_data['item_id'],\n",
    "    campaign_id=int(campaign_data['campaign_id']),\n",
    "    loc_id=int(campaign_data[\"loc_id\"]),\n",
    "    region_id=int(campaign_data[\"region_id\"]),\n",
    "    logical_category=campaign_data[\"logical_category\"],\n",
    "    microcat_ext=int(campaign_data[\"microcat_ext\"]),\n",
    "    campaign_start=int(campaign_data[\"campaign_start\"]),\n",
    "    campaign_end=int(campaign_data[\"campaign_end\"]),\n",
    "    initial_balance=campaign_data['auction_budget'],\n",
    "    balance=campaign_data['auction_budget'],\n",
    "    curr_time=int(campaign_data[\"campaign_start\"]),\n",
    "    prev_time=int(campaign_data[\"campaign_start\"]),\n",
    "    prev_balance=campaign_data['auction_budget'],\n",
    ")\n",
    "print(\"Budget \", campaign_data['auction_budget']) \n",
    "print(\"Length hours \", (campaign_data['campaign_end'] - campaign_data['campaign_start']) // 3600)"
   ]
  },
  {
   "cell_type": "code",
   "execution_count": null,
   "id": "86b4d8ea-aa94-44b6-9261-bdb8d134f49e",
   "metadata": {},
   "outputs": [],
   "source": [
    "simulation_history = simulate_campaign(\n",
    "    campaign=campaign_example,\n",
    "    bidder=MPIDBidder(),\n",
    "    stats_file=campaign_stats,\n",
    "    auction_mode=auction_mode,\n",
    ")"
   ]
  },
  {
   "cell_type": "code",
   "execution_count": null,
   "id": "4bdbe7ff-0396-440b-9c04-b4e9dc9abfb5",
   "metadata": {},
   "outputs": [],
   "source": [
    "df = simulation_history.to_data_frame()\n",
    "viz_data_m_pid = data_prep_vis(df)\n",
    "df.head(10)"
   ]
  },
  {
   "cell_type": "code",
   "execution_count": null,
   "id": "0f93fa06-9f3f-4af0-b573-203c7e954bc0",
   "metadata": {},
   "outputs": [],
   "source": [
    "fig = plot_history_article(viz_data_m_pid)"
   ]
  },
  {
   "cell_type": "code",
   "execution_count": null,
   "id": "e1477961-2e24-49e5-b65d-93036980d8cb",
   "metadata": {},
   "outputs": [],
   "source": [
    "# refreshing Campaign\n",
    "campaign_example = Campaign(\n",
    "    item_id=campaign_data['item_id'],\n",
    "    campaign_id=int(campaign_data['campaign_id']),\n",
    "    loc_id=int(campaign_data[\"loc_id\"]),\n",
    "    region_id=int(campaign_data[\"region_id\"]),\n",
    "    logical_category=campaign_data[\"logical_category\"],\n",
    "    microcat_ext=int(campaign_data[\"microcat_ext\"]),\n",
    "    campaign_start=int(campaign_data[\"campaign_start\"]),\n",
    "    campaign_end=int(campaign_data[\"campaign_end\"]),\n",
    "    initial_balance=campaign_data['auction_budget'],\n",
    "    balance=campaign_data['auction_budget'],\n",
    "    curr_time=int(campaign_data[\"campaign_start\"]),\n",
    "    prev_time=int(campaign_data[\"campaign_start\"]),\n",
    "    prev_balance=campaign_data['auction_budget'],\n",
    ")\n",
    "print(\"Budget \", campaign_data['auction_budget']) \n",
    "print(\"Length hours \", (campaign_data['campaign_end'] - campaign_data['campaign_start']) // 3600)"
   ]
  },
  {
   "cell_type": "code",
   "execution_count": null,
   "id": "47bae955-a6ec-4886-b317-4532fa5cfd6f",
   "metadata": {},
   "outputs": [],
   "source": [
    "simulation_history = simulate_campaign(\n",
    "    campaign=campaign_example,\n",
    "    bidder=BROI(),\n",
    "    stats_file=campaign_stats,\n",
    "    auction_mode=auction_mode,\n",
    ")"
   ]
  },
  {
   "cell_type": "code",
   "execution_count": null,
   "id": "bc1f0787-38d5-4aff-a9e3-94c79210fe5c",
   "metadata": {},
   "outputs": [],
   "source": [
    "df = simulation_history.to_data_frame()\n",
    "viz_data_broi = data_prep_vis(df)\n",
    "df.head(10)"
   ]
  },
  {
   "cell_type": "code",
   "execution_count": null,
   "id": "203f83ba-b80d-4f06-bca3-45115307a430",
   "metadata": {},
   "outputs": [],
   "source": [
    "fig = plot_history_article(viz_data_broi)"
   ]
  },
  {
   "cell_type": "markdown",
   "id": "c1c9a1f0-bd1a-4732-b207-9a3332cfe2d8",
   "metadata": {},
   "source": [
    "## You may also compare the performance of all the baselines:"
   ]
  },
  {
   "cell_type": "code",
   "execution_count": null,
   "id": "d05d0aea-d44e-47b4-bb87-01b07deb437b",
   "metadata": {},
   "outputs": [],
   "source": [
    "f = plot_history_article([viz_data_linear, viz_data_ta_pid, viz_data_m_pid], single_plot=False)"
   ]
  },
  {
   "cell_type": "markdown",
   "id": "78908c1e-c49a-4680-b2e5-9797a8631d73",
   "metadata": {},
   "source": [
    "# Metrics"
   ]
  },
  {
   "cell_type": "code",
   "execution_count": null,
   "id": "aa4088b4-3da2-45e3-acf1-2a9bc1645870",
   "metadata": {},
   "outputs": [],
   "source": [
    "best_metrics = np.ones((3, 3)) * 100000"
   ]
  },
  {
   "cell_type": "code",
   "execution_count": null,
   "id": "a072304a-e466-40db-aaaf-67ee941d6beb",
   "metadata": {},
   "outputs": [],
   "source": [
    "best_metrics"
   ]
  },
  {
   "cell_type": "markdown",
   "id": "d25a87fe-3a6a-4526-8a18-1f0bb2618e48",
   "metadata": {},
   "source": [
    "### Mean "
   ]
  },
  {
   "cell_type": "markdown",
   "id": "6da4ff38-d836-4269-b26e-81784ffcd55d",
   "metadata": {},
   "source": [
    "## Linear Bidder"
   ]
  },
  {
   "cell_type": "code",
   "execution_count": null,
   "id": "774999ac-5e49-4d8e-80e8-0550c88a2530",
   "metadata": {},
   "outputs": [],
   "source": [
    "def objective_linear(trial, metric='RMSE_T', auction_mode='FPA'):\n",
    "    coef = trial.suggest_float('coef', 0.001, 0.999, log=True) # Cold start coefficient\n",
    "    lower_clip = trial.suggest_int('lower_clip', 1, 20, log=True)\n",
    "    upper_clip = trial.suggest_int('upper_clip', 1, 20, log=True)\n",
    "    factor = trial.suggest_float('factor', 1.1, 10.0, log=True)\n",
    "   \n",
    "    res = autobidder_check(\n",
    "        bidder=LinearBidder,\n",
    "        params={\n",
    "            \"input_campaigns\": campaigns_path,\n",
    "            \"input_stats\": stats_path,\n",
    "            \"cold_start_coef\": coef,\n",
    "            \"lower_clip\": lower_clip,\n",
    "            \"upper_clip\": upper_clip,\n",
    "            \"factor\": factor # slope\n",
    "        },\n",
    "        auction_mode=auction_mode,\n",
    "    )\n",
    "    print(f\"CPC_REL: {res['score'][0]}, rmse: {res['score'][1]}, SCR: {res['score'][2]}\")\n",
    "    if metric == 'RMSE_T':\n",
    "        best_metrics[0, 0] = min(best_metrics[0, 0], res['score'][1])\n",
    "        return res['score'][1] \n",
    "    elif metric == 'CPC_REL':\n",
    "        best_metrics[0, 1] = min(best_metrics[0, 1], res['score'][0])\n",
    "      \n",
    "        return res['score'][0] \n",
    "    elif metric == 'MCR':\n",
    "        best_metrics[0, 2] = max(best_metrics[0, 2], res['score'][2])\n",
    "        return res['score'][2] \n",
    "\n",
    "    \n",
    "def opt_search_linear(n_trials=100, metric='RMSE_T', auction_mode='FPA'):\n",
    "    # Create pruner\n",
    "    pruner = optuna.pruners.MedianPruner(\n",
    "        n_startup_trials=5,\n",
    "        n_warmup_steps=10,\n",
    "        interval_steps=1\n",
    "    )\n",
    "\n",
    "    # Create study with pruner\n",
    "    study = optuna.create_study(\n",
    "        direction='maximize' if (metric == 'MCR') else 'minimize',\n",
    "        pruner=pruner\n",
    "    )\n",
    "\n",
    "    # Optimization\n",
    "    study.optimize(\n",
    "        partial(objective_linear, metric=metric, auction_mode=auction_mode),\n",
    "        n_trials=n_trials,\n",
    "        catch=(Exception,)\n",
    "    )\n",
    "\n",
    "    print('Best trial:')\n",
    "    trial = study.best_trial\n",
    "    print(f'  Value: {trial.value}')\n",
    "    print('  Params: ')\n",
    "    dict_path = f'best_params/linear_{metric.lower()}_{auction_mode}.pkl'\n",
    "    params_dict = dict()\n",
    "    for key, value in trial.params.items():\n",
    "        print(f'    {key}: {value}')\n",
    "        params_dict[key] = value\n",
    "    # save the best params to the file\n",
    "    with open(dict_path, 'wb') as f:\n",
    "        pickle.dump(params_dict, f)\n",
    "    return study"
   ]
  },
  {
   "cell_type": "code",
   "execution_count": null,
   "id": "13ae4181-1aaf-4e69-8f19-ecdf7e2b32b0",
   "metadata": {
    "scrolled": true
   },
   "outputs": [],
   "source": [
    "n = 10\n",
    "metric = 'RMSE_T' # for Mean Click Ratio use 'MCR'\n",
    "study_linear = opt_search_linear(n, metric, auction_mode)"
   ]
  },
  {
   "cell_type": "code",
   "execution_count": null,
   "id": "f8706db1",
   "metadata": {
    "scrolled": true
   },
   "outputs": [],
   "source": [
    "n = 10\n",
    "metric = 'CPC_REL' # for Mean Click Ratio use 'MCR'\n",
    "study_linear = opt_search_linear(n, metric, auction_mode)"
   ]
  },
  {
   "cell_type": "code",
   "execution_count": null,
   "id": "6e8e0bab-3100-4a73-8b21-819cafabf71e",
   "metadata": {
    "scrolled": true
   },
   "outputs": [],
   "source": [
    "n = 10\n",
    "metric = 'MCR' # for Mean Click Ratio use 'MCR'\n",
    "study_linear = opt_search_linear(n, metric, auction_mode)"
   ]
  },
  {
   "cell_type": "code",
   "execution_count": null,
   "id": "d474f7eb-1b0f-456c-a89e-c61e3942675a",
   "metadata": {},
   "outputs": [],
   "source": []
  },
  {
   "cell_type": "markdown",
   "id": "b9c19198-8107-4614-a5b6-6bdccfc8ecc7",
   "metadata": {},
   "source": [
    "## TA-PID Bidder"
   ]
  },
  {
   "cell_type": "code",
   "execution_count": null,
   "id": "24cdeded-526d-4242-9242-fdc91d9f940c",
   "metadata": {},
   "outputs": [],
   "source": [
    "def objective_tapid(trial, metric='RMSE_T', auction_mode='FPA'):\n",
    "    k_p1 = trial.suggest_float('k_p1', 1e-4, 1, log=True)\n",
    "    k_i1 = trial.suggest_float('k_i1', 1e-4, 1, log=True)\n",
    "    k_d1 = trial.suggest_float('k_d1', 1e-4, 1, log=True)\n",
    "    coef = trial.suggest_float('coef', 0.1, 0.9, log=True) # Cold start coefficient\n",
    "    k_dict = {\n",
    "        'k_p': k_p1,\n",
    "        'k_i': k_i1,\n",
    "        'k_d': k_d1\n",
    "    }\n",
    "   \n",
    "    res = autobidder_check(\n",
    "        bidder=TAPIDBidder,\n",
    "        params={\n",
    "            \"input_campaigns\": campaigns_path,\n",
    "            \"input_stats\": stats_path,\n",
    "            \"k_dict\": k_dict, \n",
    "            'cold_start_coef': coef,\n",
    "        },\n",
    "        auction_mode=auction_mode,\n",
    "    )\n",
    "    print(f\"CPC_REL: {res['score'][0]}, rmse: {res['score'][1]}, SCR: {res['score'][2]}\")\n",
    "    if metric == 'RMSE_T':\n",
    "        best_metrics[0, 0] = min(best_metrics[0, 0], res['score'][1])\n",
    "        return res['score'][1] \n",
    "    elif metric == 'CPC_REL':\n",
    "        best_metrics[0, 1] = min(best_metrics[0, 1], res['score'][0])\n",
    "        print(f'PROBLEMS???{abs(1 - res[\"score\"][0])}')\n",
    "        return res['score'][0] \n",
    "    elif metric == 'MCR':\n",
    "        best_metrics[0, 2] = max(best_metrics[0, 2], res['score'][2])\n",
    "        return res['score'][2] \n",
    "\n",
    "def opt_search_tapid(n_trials, metric, auction_mode='FPA'):\n",
    "    # if metric == 'RMSE_T':\n",
    "    study = optuna.create_study(\n",
    "        direction='maximize' if metric == 'MCR' else 'minimize'\n",
    "    )\n",
    "    # elif metric == 'MCR':\n",
    "    #     study = optuna.create_study(direction='maximize')\n",
    "    study.optimize(partial(objective_tapid, metric=metric, auction_mode=auction_mode), n_trials=n_trials)\n",
    "\n",
    "    print('Best trial:')\n",
    "    trial = study.best_trial\n",
    "    print(f'  Value: {trial.value}')\n",
    "    print('  Params: ')\n",
    "    dict_path = f'best_params/ta_pid_{metric.lower()}_{auction_mode}.pkl'\n",
    "    params_dict = dict()\n",
    "    for key, value in trial.params.items():\n",
    "        print(f'    {key}: {value}')\n",
    "        params_dict[key] = value\n",
    "    # save the best params to the file\n",
    "    with open(dict_path, 'wb') as f:\n",
    "        pickle.dump(params_dict, f)\n",
    "    return study"
   ]
  },
  {
   "cell_type": "code",
   "execution_count": null,
   "id": "766a997f-350e-494f-9dcf-ca5764d190cb",
   "metadata": {
    "scrolled": true
   },
   "outputs": [],
   "source": [
    "n = 10\n",
    "metric = 'RMSE_T' # for Mean Click Ratio use 'MCR'\n",
    "study_ta_pid = opt_search_tapid(n, metric, auction_mode)"
   ]
  },
  {
   "cell_type": "code",
   "execution_count": null,
   "id": "587a67fd",
   "metadata": {
    "scrolled": true
   },
   "outputs": [],
   "source": [
    "n = 10\n",
    "metric = 'CPC_REL' # for Mean Click Ratio use 'MCR'\n",
    "study_ta_pid = opt_search_tapid(n, metric, auction_mode)"
   ]
  },
  {
   "cell_type": "code",
   "execution_count": null,
   "id": "f2ea5ee5-47a1-4c41-89ec-22c621929a6b",
   "metadata": {
    "scrolled": true
   },
   "outputs": [],
   "source": [
    "n = 10\n",
    "metric = 'MCR' # for Mean Click Ratio use 'MCR'\n",
    "study_linear = opt_search_tapid(n, metric, auction_mode)"
   ]
  },
  {
   "cell_type": "code",
   "execution_count": null,
   "id": "561345f4-3bec-4c78-a138-f2246c3136b4",
   "metadata": {},
   "outputs": [],
   "source": [
    "best_metrics"
   ]
  },
  {
   "cell_type": "markdown",
   "id": "8fc8860b-e408-4c37-9345-12b7fb25189e",
   "metadata": {},
   "source": [
    "## M-PID Bidder"
   ]
  },
  {
   "cell_type": "code",
   "execution_count": null,
   "id": "0fa9a93b-0c5f-4371-b30f-da6e85d921e3",
   "metadata": {},
   "outputs": [],
   "source": [
    "def objective_mpid(trial, metric='RMSE_T', auction_mode='FPA'):\n",
    "    k_p1 = trial.suggest_float('k_p1', 1e-4, 1, log=True)\n",
    "    k_p2 = trial.suggest_float('k_p2', 1e-4, 1, log=True)\n",
    "    k_i1 = trial.suggest_float('k_i1', 1e-4, 1, log=True)\n",
    "    k_i2 = trial.suggest_float('k_i2', 1e-4, 1, log=True)\n",
    "    k_d1 = trial.suggest_float('k_d1', 1e-4, 1, log=True)\n",
    "    k_d2 = trial.suggest_float('k_d2', 1e-4, 1, log=True)\n",
    "    alpha = trial.suggest_float('alpha', 0.1, 0.9, log=True)\n",
    "    beta = trial.suggest_float('beta', 0.1, 0.9, log=True)\n",
    "    coef = trial.suggest_float('coef', 0.1, 0.9, log=True) # Cold start coefficient\n",
    "    lower_clip = trial.suggest_float('lower_clip', 0.1, 0.9, log=True)\n",
    "    upper_clip = trial.suggest_float('upper_clip', 1.5, 10, log=True)\n",
    "    bid_factor = trial.suggest_float('bid_factor', 0.5, 20.0, log=True)\n",
    "    temp_coef = 1.0\n",
    "    \n",
    "    k_dict = {\n",
    "        'k_p': (k_p1, k_p2),\n",
    "        'k_i': (k_i1, k_i2),\n",
    "        'k_d': (k_d1, k_d2)\n",
    "    }\n",
    "   \n",
    "    res = autobidder_check(\n",
    "        bidder=MPIDBidder,\n",
    "        params={\n",
    "            \"input_campaigns\": campaigns_path,\n",
    "            \"input_stats\": stats_path,\n",
    "            \"k_dict\": k_dict, \n",
    "            \"correction\": [alpha, beta],\n",
    "            'cold_start_coef': coef,\n",
    "            'lower_clip': lower_clip, \n",
    "            'upper_clip': upper_clip, \n",
    "            'bid_factor': bid_factor,\n",
    "            #'temp_constr': temp_constr,\n",
    "            'temp_coef': temp_coef},\n",
    "        auction_mode=auction_mode,\n",
    "    )\n",
    "    print(f\"rel_cpc: {res['score'][0]}, rmse: {res['score'][1]}, SCR: {res['score'][2]}\")\n",
    "    if metric == 'RMSE_T':\n",
    "        best_metrics[2, 0] = min(best_metrics[2, 0], res['score'][1])\n",
    "        return res['score'][1] \n",
    "    elif metric == 'CPC_REL':\n",
    "        best_metrics[2, 1] = min(best_metrics[2, 1], res['score'][0])\n",
    "        return res['score'][0]\n",
    "    elif metric == 'weighted_sum':\n",
    "        best_metrics[2, 2] = min(best_metrics[2, 2], res['score'][2])\n",
    "        return res['score'][2]\n",
    "\n",
    "def opt_search_mpid(n_trials, metric='RMSE_T', auction_mode='FPA'):\n",
    "    study = optuna.create_study(direction='maximize' if metric == 'MCR' else 'minimize')\n",
    "    study.optimize(partial(objective_mpid, metric=metric, auction_mode=auction_mode), n_trials=n_trials, n_jobs=1)\n",
    "    print('Best trial:')\n",
    "    trial = study.best_trial\n",
    "    print(f'  Value: {trial.value}')\n",
    "    print('  Params: ')\n",
    "    dict_path = f'best_params/m_pid_{metric.lower()}_{auction_mode}.pkl'\n",
    "    params_dict = dict()\n",
    "    for key, value in trial.params.items():\n",
    "        print(f'    {key}: {value}')\n",
    "        params_dict[key] = value\n",
    "    # save the best params to the file\n",
    "    with open(dict_path, 'wb') as f:\n",
    "        pickle.dump(params_dict, f)\n",
    "    return study"
   ]
  },
  {
   "cell_type": "code",
   "execution_count": null,
   "id": "2c20dcae-5772-4283-a886-2b8037f6c9a9",
   "metadata": {},
   "outputs": [],
   "source": [
    "def objective_mpid(trial, metric='RMSE_T', auction_mode='FPA'):\n",
    "    k_p1 = trial.suggest_float('k_p1', 1e-4, 1, log=True)\n",
    "    k_p2 = trial.suggest_float('k_p2', 1e-4, 1, log=True)\n",
    "    k_i1 = trial.suggest_float('k_i1', 1e-4, 1, log=True)\n",
    "    k_i2 = trial.suggest_float('k_i2', 1e-4, 1, log=True)\n",
    "    k_d1 = trial.suggest_float('k_d1', 1e-4, 1, log=True)\n",
    "    k_d2 = trial.suggest_float('k_d2', 1e-4, 1, log=True)\n",
    "    alpha = trial.suggest_float('alpha', 0.1, 0.9, log=True)\n",
    "    beta = trial.suggest_float('beta', 0.1, 0.9, log=True)\n",
    "    coef = trial.suggest_float('coef', 0.1, 0.9, log=True) # Cold start coefficient\n",
    "    lower_clip = trial.suggest_float('lower_clip', 0.1, 0.9, log=True)\n",
    "    upper_clip = trial.suggest_float('upper_clip', 1.5, 10, log=True)\n",
    "    bid_factor = trial.suggest_float('bid_factor', 0.5, 20.0, log=True)\n",
    "    \n",
    "    k_dict = {\n",
    "        'k_p': (k_p1, k_p2),\n",
    "        'k_i': (k_i1, k_i2),\n",
    "        'k_d': (k_d1, k_d2)\n",
    "    }\n",
    "   \n",
    "    res = autobidder_check(\n",
    "        bidder=MPIDBidder,\n",
    "        params={\n",
    "            \"input_campaigns\": campaigns_path,\n",
    "            \"input_stats\": stats_path,\n",
    "            \"k_dict\": k_dict, \n",
    "            \"correction\": [alpha, beta],\n",
    "            'cold_start_coef': coef,\n",
    "            'lower_clip': lower_clip, \n",
    "            'upper_clip': upper_clip, \n",
    "            'bid_factor': bid_factor},\n",
    "        auction_mode=auction_mode,\n",
    "    )\n",
    "    \n",
    "    print(f\"CPC_REL: {res['score'][0]}, rmse: {res['score'][1]}, SCR: {res['score'][2]}\")\n",
    "    \n",
    "    if metric == 'RMSE_T':\n",
    "        best_metrics[2, 0] = min(best_metrics[2, 0], res['score'][1])\n",
    "        return res['score'][1] \n",
    "    elif metric == 'CPC_REL':\n",
    "       \n",
    "        \n",
    "        best_metrics[2, 1] = min(best_metrics[2, 1], res['score'][0])\n",
    "        return res['score'][0] \n",
    "    elif metric == 'MCR':\n",
    "        best_metrics[2, 2] = max(best_metrics[2, 2], res['score'][2])\n",
    "        return res['score'][2]\n",
    "\n",
    "def opt_search_mpid(n_trials, metric='RMSE_T', auction_mode='FPA'):\n",
    "    # if metric == 'RMSE_T':\n",
    "    study = optuna.create_study(direction='maximize' if (metric == 'MCR') else 'minimize')\n",
    "    # elif metric == 'MCR':\n",
    "    #     study = optuna.create_study(direction='maximize')\n",
    "    study.optimize(partial(objective_mpid, metric=metric, auction_mode=auction_mode), n_trials=n_trials, n_jobs=6)\n",
    "\n",
    "    print('Best trial:')\n",
    "    trial = study.best_trial\n",
    "    print(f'  Value: {trial.value}')\n",
    "    print('  Params: ')\n",
    "    dict_path = f'best_params/m_pid_{metric.lower()}_{auction_mode}.pkl'\n",
    "    params_dict = dict()\n",
    "    for key, value in trial.params.items():\n",
    "        print(f'    {key}: {value}')\n",
    "        params_dict[key] = value\n",
    "    # save the best params to the file\n",
    "    with open(dict_path, 'wb') as f:\n",
    "        pickle.dump(params_dict, f)\n",
    "    return study"
   ]
  },
  {
   "cell_type": "code",
   "execution_count": null,
   "id": "ef0a5de7-d5d7-41a0-b1c7-00e930d8767d",
   "metadata": {},
   "outputs": [],
   "source": [
    "n = 10\n",
    "metric = 'CPC_REL' # for Mean Click Ratio use 'MCR'\n",
    "study_m_pid = opt_search_mpid(n, metric, auction_mode)"
   ]
  },
  {
   "cell_type": "code",
   "execution_count": null,
   "id": "bb5e83b1-e369-4f85-8c9f-ceb36cc931eb",
   "metadata": {
    "scrolled": true
   },
   "outputs": [],
   "source": [
    "n = 10\n",
    "metric = 'MCR' # for Mean Click Ratio use 'MCR'\n",
    "study_m_pid = opt_search_mpid(n, metric, auction_mode)"
   ]
  },
  {
   "cell_type": "code",
   "execution_count": null,
   "id": "f84caef0-e34a-4acd-95b5-fa23312b5879",
   "metadata": {},
   "outputs": [],
   "source": [
    "n = 10\n",
    "metric = 'RMSE_T' # for Mean Click Ratio use 'MCR'\n",
    "study_m_pid = opt_search_mpid(n, metric, auction_mode)"
   ]
  },
  {
   "cell_type": "code",
   "execution_count": null,
   "id": "b47ed57f-a5fa-4b3d-8621-8627dd660445",
   "metadata": {},
   "outputs": [],
   "source": [
    "print('VCG, RMSE_T| REL_CPC| RMSE_T+REL_CPC: ')\n",
    "np.set_printoptions(precision=5,suppress=True)\n",
    "print('Linear', best_metrics[0])\n",
    "print('TA-PID', best_metrics[1])\n",
    "print('M-PID', best_metrics[2])"
   ]
  },
  {
   "cell_type": "code",
   "execution_count": null,
   "id": "0c9a86a5-0047-41ff-866d-b47c5d4bd6b5",
   "metadata": {},
   "outputs": [],
   "source": [
    "print('FPA, RMSE_T| REL_CPC| RMSE_T+REL_CPC: ')\n",
    "np.set_printoptions(precision=5,suppress=True)\n",
    "print('Linear', best_metrics[0])\n",
    "print('TA-PID', best_metrics[1])\n",
    "print('M-PID', best_metrics[2])"
   ]
  },
  {
   "cell_type": "markdown",
   "id": "2c94c33c-0440-483d-bf77-45fef2498657",
   "metadata": {},
   "source": [
    "# Mystique bidder"
   ]
  },
  {
   "cell_type": "code",
   "execution_count": null,
   "id": "e457314e-4ac9-483c-8fb3-db4b029860ef",
   "metadata": {},
   "outputs": [],
   "source": [
    "def objective_mystique(trial, metric='RMSE_T', auction_mode='FPA'):\n",
    "   \n",
    "\n",
    "    pf0 = trial.suggest_float('pf0', 1, 200, log=True)\n",
    "    C_max = trial.suggest_float('C_max', 1, 100, log=True)\n",
    "    C_min = trial.suggest_float('C_min', 1e-4, 1, log=True)\n",
    "    E_max = trial.suggest_float('E_max', 1, 100, log=True)\n",
    "    E_gmc = trial.suggest_float('E_gmc', 1, 100, log=True)\n",
    "   \n",
    "    res = autobidder_check(\n",
    "        bidder=Mystique,\n",
    "        params={\n",
    "            \"input_campaigns\": campaigns_path,\n",
    "            \"input_stats\": stats_path,\n",
    "            \"pf0\": pf0, \n",
    "            \"C_max\": C_max,\n",
    "            'C_min': C_min,\n",
    "            'E_max': E_max, \n",
    "            'E_gmc': E_gmc},\n",
    "        auction_mode=auction_mode,\n",
    "    )\n",
    "\n",
    "    print(f\"CPC_REL: {res['score'][0]}, rmse: {res['score'][1]}, SCR: {res['score'][2]}\")\n",
    "    if metric == 'RMSE_T':\n",
    "        return res['score'][1] \n",
    "    elif metric == 'CPC_REL':\n",
    "        return res['score'][0] \n",
    "    elif metric == 'MCR':\n",
    "        return res['score'][2] \n",
    "\n",
    "def opt_search_mystique(n_trials, metric='RMSE_T', auction_mode='FPA'): \n",
    "    study = optuna.create_study(direction='maximize' if metric == 'MCR' else 'minimize')\n",
    "    study.optimize(partial(objective_mystique, metric=metric, auction_mode=auction_mode), n_trials=n_trials, n_jobs=6)\n",
    "    print('Best trial:')\n",
    "    trial = study.best_trial\n",
    "    print(f'  Value: {trial.value}')\n",
    "    print('  Params: ')\n",
    "    dict_path = f'best_params/mystique_{metric.lower()}_{auction_mode}.pkl'\n",
    "    params_dict = dict()\n",
    "    for key, value in trial.params.items():\n",
    "        print(f'    {key}: {value}')\n",
    "        params_dict[key] = value\n",
    "    # save the best params to file\n",
    "    with open(dict_path, 'wb') as f:\n",
    "        pickle.dump(params_dict, f)\n",
    "    return study"
   ]
  },
  {
   "cell_type": "code",
   "execution_count": null,
   "id": "b841d929-c082-46f4-afb9-ee01979a1bee",
   "metadata": {},
   "outputs": [],
   "source": [
    "n = 10\n",
    "metric = 'RMSE_T' # for Mean Click Ratio use 'MCR'\n",
    "study_mystique = opt_search_mystique(n, metric,  auction_mode)"
   ]
  },
  {
   "cell_type": "code",
   "execution_count": null,
   "id": "063a1680-e02e-4522-aada-be78771b8db9",
   "metadata": {
    "scrolled": true
   },
   "outputs": [],
   "source": [
    "n = 10\n",
    "metric = 'CPC_REL' # for Mean Click Ratio use 'MCR'\n",
    "study_mystique = opt_search_mystique(n, metric,  auction_mode)"
   ]
  },
  {
   "cell_type": "code",
   "execution_count": null,
   "id": "5fbea9bc-683b-42e3-b502-4a0a9e019456",
   "metadata": {},
   "outputs": [],
   "source": [
    "n = 10\n",
    "metric = 'MCR' # for Mean Click Ratio use 'MCR'\n",
    "study_mystique = opt_search_mystique(n, metric, auction_mode)"
   ]
  },
  {
   "cell_type": "markdown",
   "id": "ccae4e0c-9742-4874-823a-4586cd43b123",
   "metadata": {},
   "source": [
    "### BROI"
   ]
  },
  {
   "cell_type": "code",
   "execution_count": null,
   "id": "78aad197-ace7-4f12-86e1-043033ab70e9",
   "metadata": {},
   "outputs": [],
   "source": [
    "def objective_broi(trial, metric='RMSE_T', auction_mode='FPA'):\n",
    "    ro = trial.suggest_float('ro', 0.01, 200, log=True)\n",
    "    v_bar = trial.suggest_float('v_bar', 0.01, 200, log=True)\n",
    "   \n",
    "    res = autobidder_check(\n",
    "        bidder=BROI,\n",
    "        params={\n",
    "            \"input_campaigns\": campaigns_path,\n",
    "            \"input_stats\": stats_path,\n",
    "            'ro': ro,\n",
    "            'v_bar': v_bar\n",
    "        },\n",
    "        auction_mode=auction_mode,\n",
    "    )\n",
    "    print(f\"CPC_REL: {res['score'][0]}, rmse: {res['score'][1]}, SCR: {res['score'][2]}\")\n",
    "    if metric == 'RMSE_T':\n",
    "        best_metrics[0, 0] = min(best_metrics[0, 0], res['score'][1])\n",
    "        return res['score'][1] \n",
    "    elif metric == 'CPC_REL':\n",
    "        best_metrics[0, 1] = max(best_metrics[0, 1], res['score'][0])\n",
    "        return res['score'][0] \n",
    "    elif metric == 'MCR':\n",
    "        best_metrics[0, 2] = max(best_metrics[0, 2], res['score'][2])\n",
    "        return res['score'][2]\n",
    "    \n",
    "def opt_search_broi(n_trials=100, metric='RMSE_T', auction_mode='FPA'):\n",
    "    # Create pruner\n",
    "    pruner = optuna.pruners.MedianPruner(\n",
    "        n_startup_trials=5,\n",
    "        n_warmup_steps=10,\n",
    "        interval_steps=1\n",
    "    )\n",
    "    # Create study with pruner\n",
    "    study = optuna.create_study(\n",
    "        direction='maximize' if (metric == 'MCR') else 'minimize',\n",
    "        pruner=pruner,\n",
    "        storage=f'sqlite:///broi_{metric}.db'\n",
    "    )\n",
    "    # Optimization\n",
    "    study.optimize(\n",
    "        partial(objective_broi, metric=metric, auction_mode=auction_mode),\n",
    "        n_trials=n_trials,\n",
    "        catch=(Exception,)\n",
    "    )\n",
    "    print('Best trial:')\n",
    "    trial = study.best_trial\n",
    "    print(f'  Value: {trial.value}')\n",
    "    print('  Params: ')\n",
    "    dict_path = f'best_params/broi_{metric.lower()}_{auction_mode}.pkl'\n",
    "    params_dict = dict()\n",
    "    for key, value in trial.params.items():\n",
    "        print(f'    {key}: {value}')\n",
    "        params_dict[key] = value\n",
    "    # save the best params to the file\n",
    "    with open(dict_path, 'wb') as f:\n",
    "        pickle.dump(params_dict, f)\n",
    "    return study"
   ]
  },
  {
   "cell_type": "code",
   "execution_count": null,
   "id": "c97698f7-7160-4378-a124-cdc9f8a19f0e",
   "metadata": {},
   "outputs": [],
   "source": [
    "n = 10\n",
    "metric = 'CPC_REL' # for Mean Click Ratio use 'MCR'\n",
    "study_linear = opt_search_broi(n, metric, auction_mode)"
   ]
  },
  {
   "cell_type": "code",
   "execution_count": null,
   "id": "c59d30d8-3ea8-434d-8023-cbbb0554e060",
   "metadata": {},
   "outputs": [],
   "source": [
    "n = 10\n",
    "metric = 'MCR' # for Mean Click Ratio use 'MCR'\n",
    "study_linear = opt_search_broi(n, metric, auction_mode)"
   ]
  },
  {
   "cell_type": "markdown",
   "id": "a3348d21-252e-4dd8-9339-b24467ac6f04",
   "metadata": {},
   "source": [
    "\n",
    "\n",
    "# Evaluation with the best params"
   ]
  },
  {
   "cell_type": "code",
   "execution_count": null,
   "id": "82754a10-520b-4562-b98f-62038e1532e6",
   "metadata": {},
   "outputs": [],
   "source": [
    "campaigns_path_test = f\"../data/{auction_mode.lower()}/campaigns_{auction_mode.lower()}_filtered_test_final.csv\"\n",
    "stats_path_test = f\"../data/{auction_mode.lower()}/stats_{auction_mode.lower()}_filtered_test_final.csv\""
   ]
  },
  {
   "cell_type": "code",
   "execution_count": null,
   "id": "3b86b461-3a14-4942-8984-12c45da7b46e",
   "metadata": {},
   "outputs": [],
   "source": [
    "best_metrics_eval = np.ones((3, 3)) * 100000"
   ]
  },
  {
   "cell_type": "markdown",
   "id": "742e7d88-b08b-42ad-ba24-e3af78f51a95",
   "metadata": {},
   "source": [
    "### Linear Bidder"
   ]
  },
  {
   "cell_type": "code",
   "execution_count": null,
   "id": "26e4e01f-63a7-4b62-842d-3000503c35fb",
   "metadata": {},
   "outputs": [],
   "source": [
    "def eval_linear(params_dict, metric='RMSE_T', auction_mode='FPA'):\n",
    "    res = autobidder_check(\n",
    "        bidder=LinearBidder,\n",
    "        params={\n",
    "            \"input_campaigns\": campaigns_path_test,\n",
    "            \"input_stats\": stats_path_test,\n",
    "            \"cold_start_coef\": params_dict['coef'],\n",
    "            \"lower_clip\": params_dict['lower_clip'],\n",
    "            \"upper_clip\": params_dict['upper_clip'],\n",
    "            \"factor\": params_dict['factor']\n",
    "        },\n",
    "        auction_mode=auction_mode,\n",
    "    )\n",
    "    print(f\"CPC_REL: {res['score'][0]}, rmse: {res['score'][1]}, SCR: {res['score'][2]}\")\n",
    "    if metric == 'RMSE_T':\n",
    "        best_metrics[0, 0] = min(best_metrics[0, 0], res['score'][1])\n",
    "        return res['score'][1] \n",
    "    elif metric == 'CPC_REL':\n",
    "        best_metrics[0, 1] = min(best_metrics[0, 1], res['score'][0])\n",
    "        print(f'PROBLEMS???{abs(1 - res[\"score\"][0])}')\n",
    "        return res['score'][0] \n",
    "    elif metric == 'MCR':\n",
    "        best_metrics[0, 2] = max(best_metrics[0, 2], res['score'][2])\n",
    "        return res['score'][2] \n",
    "        \n"
   ]
  },
  {
   "cell_type": "code",
   "execution_count": null,
   "id": "4548061e-d753-4abd-948d-a086e23088fe",
   "metadata": {},
   "outputs": [],
   "source": [
    "campaigns = pd.read_csv(campaigns_path_test)\n",
    "stats = pd.read_csv(stats_path_test)"
   ]
  },
  {
   "cell_type": "code",
   "execution_count": null,
   "id": "9168356c-147b-46fb-9cb6-428780a4784c",
   "metadata": {
    "scrolled": true
   },
   "outputs": [],
   "source": [
    "%%time\n",
    "metric = 'RMSE_T'\n",
    "dict_path = f'best_params/linear_{metric.lower()}_{auction_mode}.pkl'\n",
    "with open(dict_path, 'rb') as f:\n",
    "    params = pickle.load(f)\n",
    "\n",
    "eval_linear(params, metric, auction_mode)"
   ]
  },
  {
   "cell_type": "code",
   "execution_count": null,
   "id": "723384d1-291e-45ba-8a6c-509f567d6a61",
   "metadata": {},
   "outputs": [],
   "source": [
    "%%time\n",
    "metric = 'CPC_REL'\n",
    "dict_path = f'best_params/linear_{metric.lower()}_{auction_mode}.pkl'\n",
    "with open(dict_path, 'rb') as f:\n",
    "    params = pickle.load(f)\n",
    "\n",
    "eval_linear(params, metric, auction_mode)"
   ]
  },
  {
   "cell_type": "code",
   "execution_count": null,
   "id": "58762172-ec80-4cb7-bf66-be0eb3da72f7",
   "metadata": {},
   "outputs": [],
   "source": [
    "%%time\n",
    "metric = 'MCR'\n",
    "dict_path = f'best_params/linear_{metric.lower()}_{auction_mode}.pkl'\n",
    "with open(dict_path, 'rb') as f:\n",
    "    params = pickle.load(f)\n",
    "\n",
    "eval_linear(params, metric, auction_mode)"
   ]
  },
  {
   "cell_type": "markdown",
   "id": "bb6b90d4-ba67-42c4-8ab7-e48bc8e09db3",
   "metadata": {},
   "source": [
    "### TA-PID"
   ]
  },
  {
   "cell_type": "code",
   "execution_count": null,
   "id": "1938ef30-a640-4e84-9659-8dc1e6421443",
   "metadata": {},
   "outputs": [],
   "source": [
    "def eval_tapid(params, metric='RMSE_T', auction_mode='FPA'):\n",
    "    k_dict = {\n",
    "        'k_p': params['k_p1'],\n",
    "        'k_i': params['k_i1'],\n",
    "        'k_d': params['k_d1']\n",
    "    }\n",
    "   \n",
    "    res = autobidder_check(\n",
    "        bidder=TAPIDBidder,\n",
    "        params={\n",
    "            \"input_campaigns\": campaigns_path_test,\n",
    "            \"input_stats\": stats_path_test,\n",
    "            \"k_dict\": k_dict, \n",
    "            'cold_start_coef': params['coef'],\n",
    "        },\n",
    "        auction_mode=auction_mode,\n",
    "    )\n",
    "    print(f\"CPC_REL: {res['score'][0]}, rmse: {res['score'][1]}, SCR: {res['score'][2]}\")\n",
    "    if metric == 'RMSE_T':\n",
    "        best_metrics[0, 0] = min(best_metrics[0, 0], res['score'][1])\n",
    "        return res['score'][1] \n",
    "    elif metric == 'CPC_REL':\n",
    "        best_metrics[0, 1] = min(best_metrics[0, 1], res['score'][0])\n",
    "        print(f'PROBLEMS???{abs(1 - res[\"score\"][0])}')\n",
    "        return res['score'][0] \n",
    "    elif metric == 'MCR':\n",
    "        best_metrics[0, 2] = max(best_metrics[0, 2], res['score'][2])\n",
    "        return res['score'][2] "
   ]
  },
  {
   "cell_type": "code",
   "execution_count": null,
   "id": "c43c780a-f3cd-4ff3-bb7d-dd9e1ecbcf73",
   "metadata": {},
   "outputs": [],
   "source": [
    "%%time\n",
    "metric = 'RMSE_T'\n",
    "dict_path = f'best_params/ta_pid_{metric.lower()}_{auction_mode}.pkl'\n",
    "with open(dict_path, 'rb') as f:\n",
    "    params = pickle.load(f)\n",
    "\n",
    "eval_tapid(params, metric, auction_mode)"
   ]
  },
  {
   "cell_type": "code",
   "execution_count": null,
   "id": "ed546f33-f2dd-4761-a25d-e0eea9dddc59",
   "metadata": {},
   "outputs": [],
   "source": [
    "%%time\n",
    "metric = 'CPC_REL'\n",
    "dict_path = f'best_params/ta_pid_{metric.lower()}_{auction_mode}.pkl'\n",
    "with open(dict_path, 'rb') as f:\n",
    "    params = pickle.load(f)\n",
    "\n",
    "eval_tapid(params, metric, auction_mode)"
   ]
  },
  {
   "cell_type": "code",
   "execution_count": null,
   "id": "f0c28f96-b332-4654-9c3a-2bb0a9d84656",
   "metadata": {},
   "outputs": [],
   "source": [
    "%%time\n",
    "metric = 'MCR'\n",
    "dict_path = f'best_params/ta_pid_{metric.lower()}_{auction_mode}.pkl'\n",
    "with open(dict_path, 'rb') as f:\n",
    "    params = pickle.load(f)\n",
    "\n",
    "eval_tapid(params, metric, auction_mode)"
   ]
  },
  {
   "cell_type": "markdown",
   "id": "6da89830-5872-477b-9999-236fe2153109",
   "metadata": {},
   "source": [
    "### M-PID"
   ]
  },
  {
   "cell_type": "code",
   "execution_count": null,
   "id": "b7705b71-b359-47eb-86eb-7f9459292909",
   "metadata": {},
   "outputs": [],
   "source": [
    "%%time\n",
    "\n",
    "params = {\n",
    "    'k_p1': 0.0009872512245452012,\n",
    "    'k_p2': 0.18897715248785318,\n",
    "    'k_i1': 0.9966528621547841,\n",
    "    'k_i2': 0.0003253464269231336,\n",
    "    'k_d1': 0.07272030450279275,\n",
    "    'k_d2': 0.002192881493259258,\n",
    "    'alpha': 0.7071773265998677,\n",
    "    'beta': 0.17578463114240267,\n",
    "    'coef': 0.16586633242779408,\n",
    "    'lower_clip': 0.23922786884323818,\n",
    "    'upper_clip': 1.5030018770923117,\n",
    "    'bid_factor': 18.942084662162305\n",
    "    \n",
    "}\n",
    "with open(dict_path, 'wb') as f:\n",
    "    pickle.dump(params, f)"
   ]
  },
  {
   "cell_type": "code",
   "execution_count": null,
   "id": "b24fd070-edea-4714-a779-5fa2a1b61eca",
   "metadata": {},
   "outputs": [],
   "source": [
    "def eval_mpid(params, metric='RMSE_T', auction_mode='FPA'):    \n",
    "    k_dict = {\n",
    "        'k_p': (params['k_p1'], params['k_p2']),\n",
    "        'k_i': (params['k_i1'], params['k_i2']),\n",
    "        'k_d': (params['k_d1'], params['k_d2'])\n",
    "    }\n",
    "   \n",
    "    res = autobidder_check(\n",
    "        bidder=MPIDBidder,\n",
    "        params={\n",
    "            \"input_campaigns\": campaigns_path_test,\n",
    "            \"input_stats\": stats_path_test,\n",
    "            \"k_dict\": k_dict, \n",
    "            \"correction\": [params['alpha'], params['beta']],\n",
    "            'cold_start_coef': params['coef'],\n",
    "            'lower_clip': params['lower_clip'], \n",
    "            'upper_clip': params['upper_clip'], \n",
    "            'bid_factor': params['bid_factor'],},\n",
    "            #'temp_coef': params['temp_coef'],},\n",
    "        auction_mode=auction_mode,\n",
    "    )\n",
    "    print(f\"CPC_REL: {res['score'][0]}, rmse: {res['score'][1]}, SCR: {res['score'][2]}\")\n",
    "    if metric == 'RMSE_T':\n",
    "        best_metrics[0, 0] = min(best_metrics[0, 0], res['score'][1])\n",
    "        return res['score'][1] \n",
    "    elif metric == 'CPC_REL':\n",
    "        best_metrics[0, 1] = max(best_metrics[0, 1], res['score'][0])\n",
    "        \n",
    "        return res['score'][0] \n",
    "    elif metric == 'MCR':\n",
    "        best_metrics[0, 2] = max(best_metrics[0, 2], res['score'][2])\n",
    "        return res['score'][2] \n",
    "\n"
   ]
  },
  {
   "cell_type": "code",
   "execution_count": null,
   "id": "b2809a4c-5b33-4882-9940-c0820efdeabe",
   "metadata": {},
   "outputs": [],
   "source": [
    "%%time\n",
    "metric = 'CPC_REL'\n",
    "dict_path = f'best_params/m_pid_{metric.lower()}_{auction_mode}.pkl'\n",
    "with open(dict_path, 'rb') as f:\n",
    "    params = pickle.load(f)\n",
    "\n",
    "eval_mpid(params, metric, auction_mode)"
   ]
  },
  {
   "cell_type": "code",
   "execution_count": null,
   "id": "285fea7b-8f05-4bcf-b9cf-f5ae5f7a6188",
   "metadata": {},
   "outputs": [],
   "source": [
    "%%time\n",
    "metric = 'RMSE_T'\n",
    "dict_path = f'best_params/m_pid_{metric.lower()}_{auction_mode}.pkl'\n",
    "with open(dict_path, 'rb') as f:\n",
    "    params = pickle.load(f)\n",
    "\n",
    "eval_mpid(params, metric, auction_mode)"
   ]
  },
  {
   "cell_type": "code",
   "execution_count": null,
   "id": "69dd7089-e1ca-4b9d-8969-3c1bca794152",
   "metadata": {},
   "outputs": [],
   "source": [
    "%%time\n",
    "metric = 'MCR'\n",
    "dict_path = f'best_params/m_pid_{metric.lower()}_{auction_mode}.pkl'\n",
    "with open(dict_path, 'rb') as f:\n",
    "    params = pickle.load(f)\n",
    "\n",
    "eval_mpid(params, metric, auction_mode)"
   ]
  },
  {
   "cell_type": "code",
   "execution_count": null,
   "id": "72971547-d004-4c94-b08f-068520d54941",
   "metadata": {},
   "outputs": [],
   "source": [
    "print('VCG, RMSE_T| REL_CPC| RMSE_T+REL_CPC: ')\n",
    "np.set_printoptions(precision=5,suppress=True)\n",
    "print('Linear', best_metrics_eval[0])\n",
    "print('TA-PID', best_metrics_eval[1])\n",
    "print('M-PID', best_metrics_eval[2])"
   ]
  },
  {
   "cell_type": "code",
   "execution_count": null,
   "id": "ef5d9972-0afb-4401-8e4e-ffb297eb625a",
   "metadata": {},
   "outputs": [],
   "source": [
    "print('FPA, RMSE_T| REL_CPC| RMSE_T+REL_CPC: ')\n",
    "np.set_printoptions(precision=5,suppress=True)\n",
    "print('Linear', best_metrics_eval[0])\n",
    "print('TA-PID', best_metrics_eval[1])\n",
    "print('M-PID', best_metrics_eval[2])"
   ]
  },
  {
   "cell_type": "markdown",
   "id": "8b38fcc7-b0f8-499a-b640-fbcf24eb6bb4",
   "metadata": {},
   "source": [
    "#__Mystique__\n",
    "\n"
   ]
  },
  {
   "cell_type": "code",
   "execution_count": null,
   "id": "7a180538-2b3d-4515-9b9f-20ff30a1e69a",
   "metadata": {},
   "outputs": [],
   "source": [
    "def eval_mystique(params, metric='RMSE_T', auction_mode='FPA'):\n",
    "   \n",
    "   \n",
    "    res = autobidder_check(\n",
    "        bidder=Mystique,\n",
    "       params = {\n",
    "           \"input_campaigns\": campaigns_path_test,\n",
    "            \"input_stats\": stats_path_test,\n",
    "            \"pf0\": params['pf0'],\n",
    "            \"C_max\": params['C_max'],\n",
    "            \"C_min\": params['C_min'],\n",
    "            \"E_max\": params['E_max'],\n",
    "            \"E_gmc\": params['E_gmc']\n",
    "    },\n",
    "        auction_mode=auction_mode,\n",
    "    )\n",
    "    print(f\"rel_cpc: {res['score'][0]}, rmse: {res['score'][1]}, mcr: {res['score'][2]}\")\n",
    "    if metric == 'RMSE_T':\n",
    "        best_metrics_eval[1, 0] = min(best_metrics_eval[1, 0], res['score'][1])\n",
    "        return res['score'][1]  \n",
    "    elif metric == 'CPC_REL':\n",
    "        best_metrics_eval[1, 1] = min(best_metrics_eval[1, 1], res['score'][0])\n",
    "        return res['score'][0]\n",
    "    elif metric == 'MCR':\n",
    "        best_metrics_eval[1, 2] = max(best_metrics_eval[1, 2], res['score'][2])\n",
    "        return res['score'][2]\n",
    "    else:\n",
    "        print('problems')"
   ]
  },
  {
   "cell_type": "code",
   "execution_count": null,
   "id": "6578de4f-a831-40c1-91fb-f87cb55166e2",
   "metadata": {},
   "outputs": [],
   "source": [
    "%%time\n",
    "metric = 'RMSE_T'\n",
    "dict_path = f'best_params/mystique_{metric.lower()}_{auction_mode}.pkl'\n",
    "with open(dict_path, 'rb') as f:\n",
    "    params = pickle.load(f)\n",
    "\n",
    "eval_mystique(params, metric, auction_mode)"
   ]
  },
  {
   "cell_type": "code",
   "execution_count": null,
   "id": "ab5def98-872b-422e-8e30-d1d455527e8c",
   "metadata": {},
   "outputs": [],
   "source": [
    "%%time\n",
    "metric = 'CPC_REL'\n",
    "dict_path = f'best_params/mystique_{metric.lower()}_{auction_mode}.pkl'\n",
    "with open(dict_path, 'rb') as f:\n",
    "    params = pickle.load(f)\n",
    "\n",
    "eval_mystique(params, metric, auction_mode)"
   ]
  },
  {
   "cell_type": "code",
   "execution_count": null,
   "id": "2d07f022-0700-4e23-9cd8-50c42902dbac",
   "metadata": {},
   "outputs": [],
   "source": [
    "%%time\n",
    "metric = 'MCR'\n",
    "dict_path = f'best_params/mystique_{metric.lower()}_{auction_mode}.pkl'\n",
    "with open(dict_path, 'rb') as f:\n",
    "    params = pickle.load(f)\n",
    "\n",
    "eval_mystique(params, metric, auction_mode)"
   ]
  },
  {
   "cell_type": "markdown",
   "id": "f0b360e0-5c77-473e-8ba4-a3c1207b3afe",
   "metadata": {},
   "source": [
    "### BROI"
   ]
  },
  {
   "cell_type": "code",
   "execution_count": null,
   "id": "8dc7e901-0ed8-45c0-8d0f-8224ea50a7e3",
   "metadata": {},
   "outputs": [],
   "source": [
    "def eval_broi(params, metric='RMSE_T', auction_mode='FPA'):\n",
    "   \n",
    "   \n",
    "    res = autobidder_check(\n",
    "        bidder=BROI,\n",
    "       params = {\n",
    "            \"input_campaigns\": campaigns_path_test,\n",
    "            \"input_stats\": stats_path_test,\n",
    "            #'theta': params['theta'],\n",
    "            'ro': params['ro'],\n",
    "            'v_bar': params['v_bar']\n",
    "    },\n",
    "        auction_mode=auction_mode,\n",
    "    )\n",
    "    print(f\"CPC_REL: {res['score'][0]}, rmse: {res['score'][1]}, SCR: {res['score'][2]}\")\n",
    "    if metric == 'RMSE_T':\n",
    "        best_metrics[0, 0] = min(best_metrics[0, 0], res['score'][1])\n",
    "        return res['score'][1] \n",
    "    elif metric == 'CPC_REL':\n",
    "        best_metrics[0, 1] = min(best_metrics[0, 1], res['score'][0])\n",
    "        \n",
    "        return res['score'][0] \n",
    "    elif metric == 'MCR':\n",
    "        best_metrics[0, 2] = max(best_metrics[0, 2], res['score'][2])\n",
    "        return res['score'][2] "
   ]
  },
  {
   "cell_type": "code",
   "execution_count": null,
   "id": "25696570-fbe1-4e7c-94d6-23168a474b65",
   "metadata": {},
   "outputs": [],
   "source": [
    "%%time\n",
    "metric = 'MCR'\n",
    "dict_path = f'best_params/broi_{metric.lower()}_{auction_mode}.pkl'\n",
    "with open(dict_path, 'rb') as f:\n",
    "    params = pickle.load(f)\n",
    "\n",
    "eval_broi(params, metric, auction_mode)"
   ]
  },
  {
   "cell_type": "code",
   "execution_count": null,
   "id": "6b89e833-93ad-4515-8170-702745803f4e",
   "metadata": {},
   "outputs": [],
   "source": [
    "%%time\n",
    "metric = 'CPC_REL'\n",
    "dict_path = f'best_params/broi_{metric.lower()}_{auction_mode}.pkl'\n",
    "with open(dict_path, 'rb') as f:\n",
    "    params = pickle.load(f)\n",
    "\n",
    "eval_broi(params, metric, auction_mode)"
   ]
  },
  {
   "cell_type": "code",
   "execution_count": null,
   "id": "075510ee-df59-4da0-8f54-6b866cd3b882",
   "metadata": {},
   "outputs": [],
   "source": []
  },
  {
   "cell_type": "code",
   "execution_count": null,
   "id": "3415c99a",
   "metadata": {},
   "outputs": [],
   "source": []
  }
 ],
 "metadata": {
  "kernelspec": {
   "display_name": "Python 3 (ipykernel)",
   "language": "python",
   "name": "python3"
  },
  "language_info": {
   "codemirror_mode": {
    "name": "ipython",
    "version": 3
   },
   "file_extension": ".py",
   "mimetype": "text/x-python",
   "name": "python",
   "nbconvert_exporter": "python",
   "pygments_lexer": "ipython3",
   "version": "3.11.9"
  }
 },
 "nbformat": 4,
 "nbformat_minor": 5
}
