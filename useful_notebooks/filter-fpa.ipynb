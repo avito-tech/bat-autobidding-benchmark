{
 "cells": [
  {
   "cell_type": "code",
   "execution_count": 1,
   "id": "83ed56ca-d40e-43ef-8982-25ab319905f7",
   "metadata": {},
   "outputs": [],
   "source": [
    "import sys\n",
    "sys.path.append(\"../\")"
   ]
  },
  {
   "cell_type": "code",
   "execution_count": 3,
   "id": "f87f1a8e-473b-41a4-ab91-26dbbdd912c8",
   "metadata": {},
   "outputs": [],
   "source": [
    "%load_ext autoreload\n",
    "%autoreload 2\n",
    "\n",
    "import pandas as pd\n",
    "import numpy as np"
   ]
  },
  {
   "cell_type": "markdown",
   "id": "3e977bab",
   "metadata": {},
   "source": [
    "# Data Filtering Example for FPA Auction Data\n",
    "\n",
    "## Overview\n",
    "\n",
    "This notebook demonstrates a suggested approach for filtering data from the FPA (First-Price Auction) data files. The methods shown here are intended as guidelines and can be adapted based on specific requirements.\n",
    "\n",
    "## Purpose\n",
    "\n",
    "The main objectives of this notebook are:\n",
    "\n",
    "1. To showcase a potential data filtering methodology\n",
    "2. To provide a starting point for working with FPA auction data\n",
    "3. To replicate the data preprocessing steps applied to the algorithms presented in the benchmark's accompanying research paper, ensuring consistency with the published results\n",
    "\n",
    "## Important Note\n",
    "\n",
    "While this notebook presents one way to filter and process the data, it's important to remember that:\n",
    "\n",
    "- This is not the only correct method\n",
    "- The approach can and should be modified to suit specific research needs\n",
    "- Users are encouraged to explore alternative filtering techniques that may be more appropriate for their particular analysis"
   ]
  },
  {
   "cell_type": "markdown",
   "id": "bde331e1-22f5-4d58-895c-ca1790b54cb9",
   "metadata": {},
   "source": [
    "### Stats and campaigns loading separately"
   ]
  },
  {
   "cell_type": "code",
   "execution_count": 14,
   "id": "e58213c3-2999-457f-bf12-84efc0ee2829",
   "metadata": {},
   "outputs": [],
   "source": [
    "stats = pd.read_csv('../data/fpa/stats.csv')\n",
    "campaigns = pd.read_csv('../data/fpa/campaigns.csv')"
   ]
  },
  {
   "cell_type": "code",
   "execution_count": 19,
   "id": "54a4d3dc-bf48-4d2a-b642-270ee527bf16",
   "metadata": {},
   "outputs": [
    {
     "name": "stdout",
     "output_type": "stream",
     "text": [
      "<class 'pandas.core.frame.DataFrame'>\n",
      "Index: 3668 entries, 1518 to 109232\n",
      "Data columns (total 11 columns):\n",
      " #   Column                    Non-Null Count  Dtype  \n",
      "---  ------                    --------------  -----  \n",
      " 0   item_id                   3668 non-null   int64  \n",
      " 1   campaign_id               3668 non-null   int64  \n",
      " 2   period                    3668 non-null   float64\n",
      " 3   contact_price_bin         3668 non-null   int64  \n",
      " 4   AuctionVisibilitySurplus  3668 non-null   float64\n",
      " 5   AuctionClicksSurplus      3668 non-null   float64\n",
      " 6   AuctionContactsSurplus    3668 non-null   float64\n",
      " 7   AuctionWinBidSurplus      3668 non-null   float64\n",
      " 8   CTRPredicts               3668 non-null   float64\n",
      " 9   CRPredicts                3668 non-null   float64\n",
      " 10  AuctionCount              3668 non-null   float64\n",
      "dtypes: float64(8), int64(3)\n",
      "memory usage: 343.9 KB\n"
     ]
    }
   ],
   "source": [
    "stats.info()"
   ]
  },
  {
   "cell_type": "code",
   "execution_count": null,
   "id": "705ec3f4-3870-4ba9-a6d6-3ff021e33fac",
   "metadata": {},
   "outputs": [],
   "source": [
    "def process_data(campaigns, stats):\n",
    "    # Filter out invalid or undesirable data points\n",
    "    stats = stats[\n",
    "        stats['contact_price_bin'].notna() &\n",
    "        (stats['AuctionVisibilitySurplus'] > 0) &\n",
    "        (stats['AuctionClicksSurplus'] > 0) &\n",
    "        (stats['AuctionContactsSurplus'] > 0) &\n",
    "        (stats['AuctionWinBidSurplus'] > 0) &\n",
    "        (stats['CTRPredicts'] > 0) &\n",
    "        (stats['CRPredicts'] > 0)\n",
    "    ]\n",
    "\n",
    "    # Aggregate stats by campaign\n",
    "    cmp_stats = stats.groupby('campaign_id').agg({\n",
    "        'period': ['nunique', 'max', 'min'],\n",
    "        'AuctionWinBidSurplus': 'sum',\n",
    "        'AuctionContactsSurplus': 'sum',\n",
    "        'AuctionClicksSurplus': 'sum',\n",
    "        'contact_price_bin': 'max'\n",
    "    }).reset_index()\n",
    "\n",
    "    # Rename columns for clarity\n",
    "    cmp_stats.columns = ['campaign_id', 'count_periods', 'max_period', 'min_period', \n",
    "                         'max_price_vcg', 'AuctionContactsSurplus', 'max_clicks', 'max_contact_price_bin']\n",
    "\n",
    "    # Calculate FPA max price and max contacts\n",
    "    cmp_stats['max_price_fpa'] = cmp_stats['AuctionContactsSurplus'] * np.power(1.2, cmp_stats['max_contact_price_bin'])\n",
    "    cmp_stats['max_contacts'] = cmp_stats['AuctionContactsSurplus']\n",
    "    cmp_stats.drop('AuctionContactsSurplus', axis=1, inplace=True)\n",
    "\n",
    "    # Calculate number of periods and check if all periods are logged\n",
    "    cmp_stats['num_periods'] = ((cmp_stats['max_period'] - cmp_stats['min_period'])/3600 + 1).astype(int)\n",
    "    cmp_stats['period_full'] = cmp_stats['num_periods'] == cmp_stats['count_periods']\n",
    "\n",
    "    # Filter and process campaigns data\n",
    "    campaigns = campaigns[((campaigns['campaign_end'] - campaigns['campaign_start'])/3600/24) > 0.99]\n",
    "    campaigns['count_c'] = campaigns.groupby('campaign_id')['campaign_id'].transform('count')\n",
    "    campaigns = campaigns[campaigns['count_c'] == 1]\n",
    "    campaigns = campaigns[['campaign_id', 'campaign_end_date', 'campaign_start', 'campaign_end', 'auction_budget']]\n",
    "\n",
    "    # Merge campaign data with stats\n",
    "    cmp_stats = pd.merge(cmp_stats, campaigns, on='campaign_id', how='inner')\n",
    "\n",
    "    # Check if logs start at campaign start\n",
    "    cmp_stats['logs_at_start'] = cmp_stats['min_period'] <= cmp_stats['campaign_start']\n",
    "\n",
    "    # Calculate various metrics and flags\n",
    "    cmp_stats['expected_periods'] = ((cmp_stats['campaign_end'] - cmp_stats['campaign_start'])/3600).astype(int)\n",
    "    cmp_stats['vcg_campaign_days'] = ((cmp_stats['campaign_end'] - cmp_stats['campaign_start'])/3600/24).astype(int)\n",
    "    cmp_stats['periods_logged_full'] = cmp_stats['count_periods'] >= cmp_stats['expected_periods'] - 1\n",
    "    cmp_stats['budget_vcg_ok'] = cmp_stats['max_price_vcg'] > cmp_stats['auction_budget']\n",
    "    cmp_stats['budget_fpa_ok'] = cmp_stats['max_price_fpa'] > cmp_stats['auction_budget']\n",
    "    cmp_stats['clicks_ok'] = cmp_stats['max_clicks'] > 3\n",
    "    cmp_stats['contacts_ok'] = cmp_stats['max_contacts'] > 0.5\n",
    "    cmp_stats['campaign>1day'] = cmp_stats['expected_periods'] > 25\n",
    "    cmp_stats['campaign>=7day'] = cmp_stats['expected_periods'] > 24 * 7\n",
    "    cmp_stats['logged>1day'] = cmp_stats['num_periods'] > 25\n",
    "    cmp_stats['logged>2day'] = cmp_stats['num_periods'] > 49\n",
    "\n",
    "    campaigns_tier_1 = cmp_stats[\n",
    "        cmp_stats['budget_vcg_ok'] &\n",
    "        cmp_stats['budget_fpa_ok'] &\n",
    "        cmp_stats['clicks_ok'] &\n",
    "        cmp_stats['logs_at_start']\n",
    "    ]\n",
    "\n",
    "    return cmp_stats, campaigns_tier_1"
   ]
  },
  {
   "cell_type": "code",
   "execution_count": null,
   "id": "1776ab2d-c711-4693-abd2-49897adf40dd",
   "metadata": {},
   "outputs": [],
   "source": [
    "cmp_stats, campaigns_tier_1 = process_data(campaigns, stats)"
   ]
  },
  {
   "cell_type": "code",
   "execution_count": null,
   "id": "df9a041a-298d-47d5-b303-47f2bdcf2dd7",
   "metadata": {},
   "outputs": [],
   "source": [
    "ministats = stats[stats.campaign_id.isin(set(campaigns_tier_1.campaign_id))]\n",
    "minicampaigns = campaigns[campaigns.campaign_id.isin(set(campaigns_tier_1.campaign_id))]"
   ]
  },
  {
   "cell_type": "code",
   "execution_count": null,
   "id": "d9d2d100-07b9-4c12-8b7e-32b609447640",
   "metadata": {},
   "outputs": [],
   "source": [
    "len(minicampaigns), len(campaigns)"
   ]
  },
  {
   "cell_type": "code",
   "execution_count": null,
   "id": "d64ad88d-6471-4299-bdb3-7cf9658001d9",
   "metadata": {},
   "outputs": [],
   "source": [
    "minicampaigns"
   ]
  },
  {
   "cell_type": "markdown",
   "id": "41bca7c6-ac93-4f7f-a6e2-d962cc48830f",
   "metadata": {},
   "source": [
    "# Some statistics of the datasets"
   ]
  },
  {
   "cell_type": "code",
   "execution_count": null,
   "id": "ebd1dc93-6ae6-4e60-94f6-e351a131efa0",
   "metadata": {},
   "outputs": [],
   "source": [
    "# Contact price bin distribution\n",
    "stats.contact_price_bin.hist(bins=30)"
   ]
  },
  {
   "cell_type": "code",
   "execution_count": null,
   "id": "c7ace854-caa8-4598-8680-6a80c50dbac9",
   "metadata": {},
   "outputs": [],
   "source": [
    "def campaigns_value_counts(campaigns: pd.DataFrame):\n",
    "    length_series = pd.to_datetime(campaigns['campaign_end'], unit='s') - pd.to_datetime(campaigns['campaign_start'], unit='s')\n",
    "    print(length_series.value_counts())\n",
    "    pass"
   ]
  },
  {
   "cell_type": "code",
   "execution_count": null,
   "id": "a40fd95f-894c-499a-be65-8a3853d2a4cb",
   "metadata": {},
   "outputs": [],
   "source": [
    "# Distribution of the lengths of the lifetime of the campaigns\n",
    "campaigns_value_counts(campaigns)"
   ]
  },
  {
   "cell_type": "markdown",
   "id": "2af791c2-b2b8-49f2-aecf-40ec90aecb3f",
   "metadata": {},
   "source": [
    "# Train + test split"
   ]
  },
  {
   "cell_type": "code",
   "execution_count": null,
   "id": "3e8a01d6-1c91-49dc-bf35-f51cd8a72b77",
   "metadata": {},
   "outputs": [],
   "source": [
    "minicampaigns.campaign_start_date.value_counts()"
   ]
  },
  {
   "cell_type": "code",
   "execution_count": null,
   "id": "9dc2b077-7d13-4a42-9cd4-3690ccf27c4a",
   "metadata": {},
   "outputs": [],
   "source": [
    "k = len(minicampaigns) * 2 // 15\n",
    "k_test = len(minicampaigns) * 4 // 15\n",
    "last_train_start = max(np.partition(minicampaigns.campaign_start, k)[:k])\n",
    "last_test_start = max(np.partition(minicampaigns.campaign_start, k_test)[:k_test])\n",
    "print(f'length of the train: {k}, length of the test: {k_test - k}')"
   ]
  },
  {
   "cell_type": "code",
   "execution_count": null,
   "id": "54da1d27-c73d-4f7c-92df-80c4f2202ccf",
   "metadata": {},
   "outputs": [],
   "source": [
    "len(minicampaigns[minicampaigns.campaign_start < last_train_start]), len(minicampaigns[(minicampaigns.campaign_start >= last_train_start) & (minicampaigns.campaign_start < last_test_start)])"
   ]
  },
  {
   "cell_type": "code",
   "execution_count": null,
   "id": "37e1d4dc-4ca4-490e-b8bf-2472be32504c",
   "metadata": {},
   "outputs": [],
   "source": [
    "# Filter out campaigns from the training set whose lifetimes intersect with any campaign in the test set\n",
    "campaigns_train = minicampaigns[minicampaigns.campaign_start < last_train_start]\n",
    "campaigns_test = minicampaigns[(minicampaigns.campaign_start >= last_train_start) & (minicampaigns.campaign_start < last_test_start)]"
   ]
  },
  {
   "cell_type": "markdown",
   "id": "9fa3e4a3-093e-4f88-b6eb-32c42172d1b5",
   "metadata": {},
   "source": [
    "# Saving filtered data to files"
   ]
  },
  {
   "cell_type": "code",
   "execution_count": null,
   "id": "4a70e6ee-ffee-4710-bce4-008749bff2d7",
   "metadata": {},
   "outputs": [],
   "source": [
    "minicampaigns.to_csv('../data/fpa/campaigns_fpa_filtered_final.csv', index=False)\n",
    "campaigns_train.to_csv('../data/fpa/campaigns_fpa_filtered_train_final.csv', index=False)\n",
    "campaigns_test.to_csv('../data/fpa/campaigns_fpa_filtered_test_final.csv', index=False)"
   ]
  },
  {
   "cell_type": "code",
   "execution_count": null,
   "id": "3bd3c2be-73e3-4b8b-8746-fde839984d83",
   "metadata": {},
   "outputs": [],
   "source": [
    "ministats.to_csv('../data/fpa/stats_fpa_filtered_final.csv', index=False)\n",
    "ministats[ministats.campaign_id.isin(campaigns_train.campaign_id)].to_csv('../data/fpa/stats_fpa_filtered_train_final.csv', index=False)\n",
    "ministats[ministats.campaign_id.isin(campaigns_test.campaign_id)].to_csv('../data/fpa/stats_fpa_filtered_test_final.csv', index=False)"
   ]
  },
  {
   "cell_type": "code",
   "execution_count": null,
   "id": "18531bac-a3a4-447a-91d9-db03723d0917",
   "metadata": {},
   "outputs": [],
   "source": []
  }
 ],
 "metadata": {
  "kernelspec": {
   "display_name": "Python 3 (ipykernel)",
   "language": "python",
   "name": "python3"
  },
  "language_info": {
   "codemirror_mode": {
    "name": "ipython",
    "version": 3
   },
   "file_extension": ".py",
   "mimetype": "text/x-python",
   "name": "python",
   "nbconvert_exporter": "python",
   "pygments_lexer": "ipython3",
   "version": "3.11.9"
  }
 },
 "nbformat": 4,
 "nbformat_minor": 5
}
